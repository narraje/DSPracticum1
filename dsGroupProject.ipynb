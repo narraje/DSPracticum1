{
 "cells": [
  {
   "cell_type": "markdown",
   "id": "d4f41ba6-120d-45fe-812a-c449866bc795",
   "metadata": {},
   "source": [
    "Question 1 — The DS Problem\n",
    "\n",
    "In your own words, formulate the Data Science problem that you were given."
   ]
  },
  {
   "cell_type": "markdown",
   "id": "20f1ca9b-4d49-4115-8106-b485947b3e0a",
   "metadata": {},
   "source": [
    "The problem given involves analyzing flight delay data from 2019 for flights from Arizona, Nevada, and California from the Bureau of Transportation Statistics. The objective is to analyze patterns in air traffic at different airports from these states and determine which airlines tend to have the most delays. This provides insights into factors contributing to flight delays and the overall efficiency of air travel in these regions."
   ]
  },
  {
   "cell_type": "markdown",
   "id": "e389c16d-3377-43c4-ae53-940141888c93",
   "metadata": {},
   "source": [
    "Question 2 — Prepare the Data (10 pts)"
   ]
  },
  {
   "cell_type": "code",
   "execution_count": 34,
   "id": "56e28e26-fb0b-4513-af13-a73fb6a682e4",
   "metadata": {},
   "outputs": [],
   "source": [
    "import pandas as pd"
   ]
  },
  {
   "cell_type": "code",
   "execution_count": 62,
   "id": "51b900fa-da57-4769-95ae-0b3c8a15677a",
   "metadata": {},
   "outputs": [
    {
     "name": "stdout",
     "output_type": "stream",
     "text": [
      "Data Types Before Conversion:\n",
      "<class 'pandas.core.frame.DataFrame'>\n",
      "RangeIndex: 1897503 entries, 0 to 1897502\n",
      "Data columns (total 14 columns):\n",
      " #   Column        Dtype  \n",
      "---  ------        -----  \n",
      " 0   FL_DATE       object \n",
      " 1   CARRIER_CODE  object \n",
      " 2   TAIL_NUM      object \n",
      " 3   FL_NUM        int64  \n",
      " 4   ORIGIN        object \n",
      " 5   ORIGIN_ST     object \n",
      " 6   DEST          object \n",
      " 7   DEST_ST       object \n",
      " 8   DEP_TIME      float64\n",
      " 9   DEP_DELAY     float64\n",
      " 10  ARR_TIME      float64\n",
      " 11  ARR_DELAY     float64\n",
      " 12  ELAPSED_TIME  float64\n",
      " 13  DISTANCE      int64  \n",
      "dtypes: float64(5), int64(2), object(7)\n",
      "memory usage: 202.7+ MB\n",
      "None\n",
      "\n",
      "Missing Values in Each Column:\n",
      "FL_DATE             0\n",
      "CARRIER_CODE        0\n",
      "TAIL_NUM         4791\n",
      "FL_NUM              0\n",
      "ORIGIN              0\n",
      "ORIGIN_ST           0\n",
      "DEST                0\n",
      "DEST_ST             0\n",
      "DEP_TIME        26707\n",
      "DEP_DELAY       26715\n",
      "ARR_TIME        28244\n",
      "ARR_DELAY       31884\n",
      "ELAPSED_TIME    31884\n",
      "DISTANCE            0\n",
      "dtype: int64\n",
      "\n",
      "Data Types After Conversion:\n",
      "FL_DATE         datetime64[ns]\n",
      "CARRIER_CODE          category\n",
      "TAIL_NUM              category\n",
      "FL_NUM                   int64\n",
      "ORIGIN                category\n",
      "ORIGIN_ST             category\n",
      "DEST                  category\n",
      "DEST_ST               category\n",
      "DEP_TIME               float64\n",
      "DEP_DELAY              float64\n",
      "ARR_TIME               float64\n",
      "ARR_DELAY              float64\n",
      "ELAPSED_TIME           float64\n",
      "DISTANCE                 int64\n",
      "dtype: object\n",
      "\n",
      "Missing Values After Imputation:\n",
      "FL_DATE         0\n",
      "CARRIER_CODE    0\n",
      "TAIL_NUM        0\n",
      "FL_NUM          0\n",
      "ORIGIN          0\n",
      "ORIGIN_ST       0\n",
      "DEST            0\n",
      "DEST_ST         0\n",
      "DEP_TIME        0\n",
      "DEP_DELAY       0\n",
      "ARR_TIME        0\n",
      "ARR_DELAY       0\n",
      "ELAPSED_TIME    0\n",
      "DISTANCE        0\n",
      "dtype: int64\n"
     ]
    }
   ],
   "source": [
    "#load data from csv file\n",
    "airline_data = pd.read_csv('2019 OnTime Reporting FSW.csv') \n",
    "\n",
    "# Display the data types and check for missing values\n",
    "print(\"Data Types Before Conversion:\")\n",
    "print(substance_data.info())\n",
    "\n",
    "#Check for missing values\n",
    "print(\"\\nMissing Values in Each Column:\")\n",
    "print(substance_data.isnull().sum())\n",
    "\n",
    "#Convert categorical columns to correct data types\n",
    "airline_data['FL_DATE'] = pd.to_datetime(airline_data['FL_DATE'], format='%Y-%m-%d')\n",
    "\n",
    "#Impute missing value in Tail_Num with mode\n",
    "most_frequent_tail_num = airline_data['TAIL_NUM'].mode()[0]\n",
    "airline_data['TAIL_NUM'].fillna(most_frequent_tail_num, inplace=True)\n",
    "# Impute missing continuous values for departure and arrival delays)\n",
    "airline_data['DEP_TIME'].fillna(airline_data['DEP_TIME'].median(), inplace=True)\n",
    "airline_data['DEP_DELAY'].fillna(airline_data['DEP_DELAY'].median(), inplace=True)\n",
    "airline_data['ARR_TIME'].fillna(airline_data['ARR_TIME'].median(), inplace=True)\n",
    "airline_data['ARR_DELAY'].fillna(airline_data['ARR_DELAY'].median(), inplace=True)\n",
    "airline_data['ELAPSED_TIME'].fillna(airline_data['ELAPSED_TIME'].median(), inplace=True)\n",
    "\n",
    "# Convert 'CARRIER_CODE', 'TAIL_NUM', 'ORIGIN', 'ORIGIN_ST', 'DEST', 'DEST_ST' to categorical data\n",
    "categorical_columns = ['CARRIER_CODE', 'TAIL_NUM', 'ORIGIN', 'ORIGIN_ST', 'DEST', 'DEST_ST']\n",
    "for col in categorical_columns:\n",
    "    airline_data[col] = airline_data[col].astype('category')\n",
    "    \n",
    "# Print updated data types\n",
    "print(\"\\nData Types After Conversion:\")\n",
    "print(airline_data.dtypes)\n",
    "\n",
    "# Confirm no missing values\n",
    "print(\"\\nMissing Values After Imputation:\")\n",
    "print(airline_data.isnull().sum())"
   ]
  },
  {
   "cell_type": "markdown",
   "id": "f3cc87c2-3ec5-46d0-b2d5-e6a6ef9afdb9",
   "metadata": {},
   "source": [
    "I converted FL_DATE to datetime format because date-based analysis, such as calculating delays by month, requires a format that supports time-based operations. Columns like CARRIER_CODE, TAIL_NUM, ORIGIN, ORIGIN_ST, DEST, and DEST_ST were converted to categorical data types to reduce memory usage and improve performance during analysis by efficiently handling repeated values. For missing values, TAIL_NUM was imputed using the mode, as it represents aircraft identifiers, and filling with the most frequent value helps minimize bias. For the continuous variables (e.g., DEP_TIME, DEP_DELAY), missing values were filled using the median, which avoids distortion caused by outliers and maintains data integrity."
   ]
  },
  {
   "cell_type": "code",
   "execution_count": null,
   "id": "8f94a20d-183e-48e7-adef-dbcf6c871ea6",
   "metadata": {},
   "outputs": [],
   "source": [
    "#3 visualizations to explain problem 1\n"
   ]
  }
 ],
 "metadata": {
  "kernelspec": {
   "display_name": "anaconda-2024.02-py310",
   "language": "python",
   "name": "conda-env-anaconda-2024.02-py310-py"
  },
  "language_info": {
   "codemirror_mode": {
    "name": "ipython",
    "version": 3
   },
   "file_extension": ".py",
   "mimetype": "text/x-python",
   "name": "python",
   "nbconvert_exporter": "python",
   "pygments_lexer": "ipython3",
   "version": "3.10.14"
  }
 },
 "nbformat": 4,
 "nbformat_minor": 5
}
